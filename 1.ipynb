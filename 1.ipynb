{
 "cells": [
  {
   "cell_type": "markdown",
   "metadata": {},
   "source": [
    "## Section 2\n",
    "### Classical vs Deep Learning Models\n",
    "- Some examples :\n",
    "1. If-Else Rule based chatbot\n",
    "2. Speech Recog\n",
    "3. Bag of words model : Classification\n",
    "4. CNN for text Recognition\n",
    "\n",
    "### End to end deep learning\n",
    "- suppose 2 models are there, 1 for converrting speech to text and another for analyzing the text. So error can increase\n",
    "- Soln : end to end deep learning. ie. 1 model for whole thing\n",
    "    - ie. seq to seq is end to end deep learning model\n",
    "    \n",
    "### Seq2Seq Architecture\n",
    "- Issues with bag of words model\n",
    "    1. fixed sized inputs and outputs\n",
    "    2. does not consider ordering of words\n",
    "\n",
    "- SOLN : RNNs \n",
    "    "
   ]
  },
  {
   "cell_type": "markdown",
   "metadata": {},
   "source": [
    "### Seq2Seq Architecture\n",
    "- We have a dense vector correspoding where we have start of sentence, end of sentence and a value correspoding to each word in our sentence.\n",
    "- ex. length of sentence 8, .'. length of vector corresponding to the sentence = SOS + 8 + EOS = 10 \n",
    "    - value of SOS = 1 always and EOS = 2\n",
    "    - every word have a value, if word is two places we can see same value two places\n",
    "    - We can remove SOS as we know starting sentence. EOS is imp as it tells when the output will terminate.\n",
    "    \n",
    "- As we see end of sentence, we start generating output. \n",
    "\n",
    "- So we have an enocder part and a decoder part.\n",
    "- We can have deep networks as well\n",
    "\n",
    "### Training\n",
    "- ex. input : hello are you a boy EOS\n",
    "    - output : Yes I'm a boy EOS\n",
    "- "
   ]
  },
  {
   "cell_type": "code",
   "execution_count": null,
   "metadata": {},
   "outputs": [],
   "source": []
  }
 ],
 "metadata": {
  "kernelspec": {
   "display_name": "Python 3",
   "language": "python",
   "name": "python3"
  },
  "language_info": {
   "codemirror_mode": {
    "name": "ipython",
    "version": 3
   },
   "file_extension": ".py",
   "mimetype": "text/x-python",
   "name": "python",
   "nbconvert_exporter": "python",
   "pygments_lexer": "ipython3",
   "version": "3.6.5"
  }
 },
 "nbformat": 4,
 "nbformat_minor": 2
}
